{
 "cells": [
  {
   "cell_type": "code",
   "execution_count": 1,
   "id": "38b22c9e-d68b-48d8-a00d-47e5e588cb0c",
   "metadata": {},
   "outputs": [
    {
     "name": "stdout",
     "output_type": "stream",
     "text": [
      "Requirement already satisfied: imbalanced-learn in c:\\users\\satya mahardika\\anaconda3\\lib\\site-packages (0.9.0)\n",
      "Requirement already satisfied: scikit-learn>=1.0.1 in c:\\users\\satya mahardika\\anaconda3\\lib\\site-packages (from imbalanced-learn) (1.0.2)\n",
      "Requirement already satisfied: joblib>=0.11 in c:\\users\\satya mahardika\\anaconda3\\lib\\site-packages (from imbalanced-learn) (1.1.0)\n",
      "Requirement already satisfied: scipy>=1.1.0 in c:\\users\\satya mahardika\\anaconda3\\lib\\site-packages (from imbalanced-learn) (1.7.1)\n",
      "Requirement already satisfied: numpy>=1.14.6 in c:\\users\\satya mahardika\\anaconda3\\lib\\site-packages (from imbalanced-learn) (1.20.3)\n",
      "Requirement already satisfied: threadpoolctl>=2.0.0 in c:\\users\\satya mahardika\\anaconda3\\lib\\site-packages (from imbalanced-learn) (2.2.0)\n",
      "Note: you may need to restart the kernel to use updated packages.\n"
     ]
    },
    {
     "name": "stderr",
     "output_type": "stream",
     "text": [
      "WARNING: Ignoring invalid distribution -atplotlib (c:\\users\\satya mahardika\\anaconda3\\lib\\site-packages)\n",
      "WARNING: Ignoring invalid distribution -atplotlib (c:\\users\\satya mahardika\\anaconda3\\lib\\site-packages)\n",
      "WARNING: Ignoring invalid distribution -atplotlib (c:\\users\\satya mahardika\\anaconda3\\lib\\site-packages)\n",
      "WARNING: Ignoring invalid distribution -atplotlib (c:\\users\\satya mahardika\\anaconda3\\lib\\site-packages)\n",
      "WARNING: Ignoring invalid distribution -atplotlib (c:\\users\\satya mahardika\\anaconda3\\lib\\site-packages)\n",
      "WARNING: Ignoring invalid distribution -atplotlib (c:\\users\\satya mahardika\\anaconda3\\lib\\site-packages)\n"
     ]
    }
   ],
   "source": [
    "pip install -U imbalanced-learn"
   ]
  },
  {
   "cell_type": "code",
   "execution_count": 2,
   "id": "44c102d6-14c5-45c4-b3fe-9243f213600a",
   "metadata": {},
   "outputs": [
    {
     "name": "stdout",
     "output_type": "stream",
     "text": [
      "\n",
      "Note: you may need to restart the kernel to use updated packages.\n"
     ]
    },
    {
     "name": "stderr",
     "output_type": "stream",
     "text": [
      "usage: conda-script.py [-h] [-V] command ...\n",
      "conda-script.py: error: unrecognized arguments: imbalanced-learn\n"
     ]
    }
   ],
   "source": [
    "conda install -c conda-forge imbalanced-learn"
   ]
  },
  {
   "cell_type": "code",
   "execution_count": 61,
   "id": "166fe6c7-057a-4be0-ad0a-fb6d9c0fda15",
   "metadata": {},
   "outputs": [],
   "source": [
    "import numpy as np\n",
    "import pandas as pd\n",
    "import matplotlib.pyplot as plt\n",
    "import seaborn as sns"
   ]
  },
  {
   "cell_type": "code",
   "execution_count": 62,
   "id": "e669ee65-1981-443e-8943-069141367202",
   "metadata": {},
   "outputs": [],
   "source": [
    "df = pd.read_csv('aug_train.csv')"
   ]
  },
  {
   "cell_type": "code",
   "execution_count": 64,
   "id": "c11c1334-d96e-4c3a-b0d3-80e5a5636db7",
   "metadata": {},
   "outputs": [
    {
     "name": "stdout",
     "output_type": "stream",
     "text": [
      "<class 'pandas.core.frame.DataFrame'>\n",
      "RangeIndex: 19158 entries, 0 to 19157\n",
      "Data columns (total 14 columns):\n",
      " #   Column                  Non-Null Count  Dtype  \n",
      "---  ------                  --------------  -----  \n",
      " 0   enrollee_id             19158 non-null  int64  \n",
      " 1   city                    19158 non-null  object \n",
      " 2   city_development_index  19158 non-null  float64\n",
      " 3   gender                  14650 non-null  object \n",
      " 4   relevent_experience     19158 non-null  object \n",
      " 5   enrolled_university     18772 non-null  object \n",
      " 6   education_level         18698 non-null  object \n",
      " 7   major_discipline        16345 non-null  object \n",
      " 8   experience              19093 non-null  object \n",
      " 9   company_size            13220 non-null  object \n",
      " 10  company_type            13018 non-null  object \n",
      " 11  last_new_job            18735 non-null  object \n",
      " 12  training_hours          19158 non-null  int64  \n",
      " 13  target                  19158 non-null  float64\n",
      "dtypes: float64(2), int64(2), object(10)\n",
      "memory usage: 2.0+ MB\n"
     ]
    }
   ],
   "source": [
    "df.info()"
   ]
  },
  {
   "cell_type": "code",
   "execution_count": 65,
   "id": "e5f17ea8-69fd-471c-ae09-b2728b24f1f1",
   "metadata": {},
   "outputs": [
    {
     "data": {
      "text/html": [
       "<div>\n",
       "<style scoped>\n",
       "    .dataframe tbody tr th:only-of-type {\n",
       "        vertical-align: middle;\n",
       "    }\n",
       "\n",
       "    .dataframe tbody tr th {\n",
       "        vertical-align: top;\n",
       "    }\n",
       "\n",
       "    .dataframe thead th {\n",
       "        text-align: right;\n",
       "    }\n",
       "</style>\n",
       "<table border=\"1\" class=\"dataframe\">\n",
       "  <thead>\n",
       "    <tr style=\"text-align: right;\">\n",
       "      <th></th>\n",
       "      <th>enrollee_id</th>\n",
       "      <th>city</th>\n",
       "      <th>city_development_index</th>\n",
       "      <th>gender</th>\n",
       "      <th>relevent_experience</th>\n",
       "      <th>enrolled_university</th>\n",
       "      <th>education_level</th>\n",
       "      <th>major_discipline</th>\n",
       "      <th>experience</th>\n",
       "      <th>company_size</th>\n",
       "      <th>company_type</th>\n",
       "      <th>last_new_job</th>\n",
       "      <th>training_hours</th>\n",
       "      <th>target</th>\n",
       "    </tr>\n",
       "  </thead>\n",
       "  <tbody>\n",
       "    <tr>\n",
       "      <th>18931</th>\n",
       "      <td>17729</td>\n",
       "      <td>city_103</td>\n",
       "      <td>0.920</td>\n",
       "      <td>Male</td>\n",
       "      <td>No relevent experience</td>\n",
       "      <td>no_enrollment</td>\n",
       "      <td>High School</td>\n",
       "      <td>NaN</td>\n",
       "      <td>6</td>\n",
       "      <td>NaN</td>\n",
       "      <td>NaN</td>\n",
       "      <td>1</td>\n",
       "      <td>85</td>\n",
       "      <td>1.0</td>\n",
       "    </tr>\n",
       "    <tr>\n",
       "      <th>182</th>\n",
       "      <td>29226</td>\n",
       "      <td>city_104</td>\n",
       "      <td>0.924</td>\n",
       "      <td>Male</td>\n",
       "      <td>No relevent experience</td>\n",
       "      <td>Full time course</td>\n",
       "      <td>High School</td>\n",
       "      <td>NaN</td>\n",
       "      <td>6</td>\n",
       "      <td>NaN</td>\n",
       "      <td>NaN</td>\n",
       "      <td>never</td>\n",
       "      <td>15</td>\n",
       "      <td>0.0</td>\n",
       "    </tr>\n",
       "    <tr>\n",
       "      <th>7415</th>\n",
       "      <td>22461</td>\n",
       "      <td>city_11</td>\n",
       "      <td>0.550</td>\n",
       "      <td>Male</td>\n",
       "      <td>Has relevent experience</td>\n",
       "      <td>no_enrollment</td>\n",
       "      <td>Graduate</td>\n",
       "      <td>STEM</td>\n",
       "      <td>4</td>\n",
       "      <td>50-99</td>\n",
       "      <td>Funded Startup</td>\n",
       "      <td>2</td>\n",
       "      <td>30</td>\n",
       "      <td>1.0</td>\n",
       "    </tr>\n",
       "    <tr>\n",
       "      <th>9399</th>\n",
       "      <td>14450</td>\n",
       "      <td>city_21</td>\n",
       "      <td>0.624</td>\n",
       "      <td>NaN</td>\n",
       "      <td>Has relevent experience</td>\n",
       "      <td>Full time course</td>\n",
       "      <td>Masters</td>\n",
       "      <td>STEM</td>\n",
       "      <td>15</td>\n",
       "      <td>10000+</td>\n",
       "      <td>NaN</td>\n",
       "      <td>2</td>\n",
       "      <td>96</td>\n",
       "      <td>1.0</td>\n",
       "    </tr>\n",
       "    <tr>\n",
       "      <th>807</th>\n",
       "      <td>9337</td>\n",
       "      <td>city_126</td>\n",
       "      <td>0.479</td>\n",
       "      <td>NaN</td>\n",
       "      <td>Has relevent experience</td>\n",
       "      <td>Full time course</td>\n",
       "      <td>Graduate</td>\n",
       "      <td>STEM</td>\n",
       "      <td>5</td>\n",
       "      <td>NaN</td>\n",
       "      <td>Public Sector</td>\n",
       "      <td>1</td>\n",
       "      <td>4</td>\n",
       "      <td>0.0</td>\n",
       "    </tr>\n",
       "  </tbody>\n",
       "</table>\n",
       "</div>"
      ],
      "text/plain": [
       "       enrollee_id      city  city_development_index gender  \\\n",
       "18931        17729  city_103                   0.920   Male   \n",
       "182          29226  city_104                   0.924   Male   \n",
       "7415         22461   city_11                   0.550   Male   \n",
       "9399         14450   city_21                   0.624    NaN   \n",
       "807           9337  city_126                   0.479    NaN   \n",
       "\n",
       "           relevent_experience enrolled_university education_level  \\\n",
       "18931   No relevent experience       no_enrollment     High School   \n",
       "182     No relevent experience    Full time course     High School   \n",
       "7415   Has relevent experience       no_enrollment        Graduate   \n",
       "9399   Has relevent experience    Full time course         Masters   \n",
       "807    Has relevent experience    Full time course        Graduate   \n",
       "\n",
       "      major_discipline experience company_size    company_type last_new_job  \\\n",
       "18931              NaN          6          NaN             NaN            1   \n",
       "182                NaN          6          NaN             NaN        never   \n",
       "7415              STEM          4        50-99  Funded Startup            2   \n",
       "9399              STEM         15       10000+             NaN            2   \n",
       "807               STEM          5          NaN   Public Sector            1   \n",
       "\n",
       "       training_hours  target  \n",
       "18931              85     1.0  \n",
       "182                15     0.0  \n",
       "7415               30     1.0  \n",
       "9399               96     1.0  \n",
       "807                 4     0.0  "
      ]
     },
     "execution_count": 65,
     "metadata": {},
     "output_type": "execute_result"
    }
   ],
   "source": [
    "df.sample(5)"
   ]
  },
  {
   "cell_type": "code",
   "execution_count": 66,
   "id": "413ed587-e674-4f6f-8fd4-712eea8d32a6",
   "metadata": {},
   "outputs": [
    {
     "data": {
      "text/html": [
       "<div>\n",
       "<style scoped>\n",
       "    .dataframe tbody tr th:only-of-type {\n",
       "        vertical-align: middle;\n",
       "    }\n",
       "\n",
       "    .dataframe tbody tr th {\n",
       "        vertical-align: top;\n",
       "    }\n",
       "\n",
       "    .dataframe thead th {\n",
       "        text-align: right;\n",
       "    }\n",
       "</style>\n",
       "<table border=\"1\" class=\"dataframe\">\n",
       "  <thead>\n",
       "    <tr style=\"text-align: right;\">\n",
       "      <th></th>\n",
       "      <th>enrollee_id</th>\n",
       "      <th>city_development_index</th>\n",
       "      <th>training_hours</th>\n",
       "      <th>target</th>\n",
       "    </tr>\n",
       "  </thead>\n",
       "  <tbody>\n",
       "    <tr>\n",
       "      <th>count</th>\n",
       "      <td>19158.000000</td>\n",
       "      <td>19158.000000</td>\n",
       "      <td>19158.000000</td>\n",
       "      <td>19158.000000</td>\n",
       "    </tr>\n",
       "    <tr>\n",
       "      <th>mean</th>\n",
       "      <td>16875.358179</td>\n",
       "      <td>0.828848</td>\n",
       "      <td>65.366896</td>\n",
       "      <td>0.249348</td>\n",
       "    </tr>\n",
       "    <tr>\n",
       "      <th>std</th>\n",
       "      <td>9616.292592</td>\n",
       "      <td>0.123362</td>\n",
       "      <td>60.058462</td>\n",
       "      <td>0.432647</td>\n",
       "    </tr>\n",
       "    <tr>\n",
       "      <th>min</th>\n",
       "      <td>1.000000</td>\n",
       "      <td>0.448000</td>\n",
       "      <td>1.000000</td>\n",
       "      <td>0.000000</td>\n",
       "    </tr>\n",
       "    <tr>\n",
       "      <th>25%</th>\n",
       "      <td>8554.250000</td>\n",
       "      <td>0.740000</td>\n",
       "      <td>23.000000</td>\n",
       "      <td>0.000000</td>\n",
       "    </tr>\n",
       "    <tr>\n",
       "      <th>50%</th>\n",
       "      <td>16982.500000</td>\n",
       "      <td>0.903000</td>\n",
       "      <td>47.000000</td>\n",
       "      <td>0.000000</td>\n",
       "    </tr>\n",
       "    <tr>\n",
       "      <th>75%</th>\n",
       "      <td>25169.750000</td>\n",
       "      <td>0.920000</td>\n",
       "      <td>88.000000</td>\n",
       "      <td>0.000000</td>\n",
       "    </tr>\n",
       "    <tr>\n",
       "      <th>max</th>\n",
       "      <td>33380.000000</td>\n",
       "      <td>0.949000</td>\n",
       "      <td>336.000000</td>\n",
       "      <td>1.000000</td>\n",
       "    </tr>\n",
       "  </tbody>\n",
       "</table>\n",
       "</div>"
      ],
      "text/plain": [
       "        enrollee_id  city_development_index  training_hours        target\n",
       "count  19158.000000            19158.000000    19158.000000  19158.000000\n",
       "mean   16875.358179                0.828848       65.366896      0.249348\n",
       "std     9616.292592                0.123362       60.058462      0.432647\n",
       "min        1.000000                0.448000        1.000000      0.000000\n",
       "25%     8554.250000                0.740000       23.000000      0.000000\n",
       "50%    16982.500000                0.903000       47.000000      0.000000\n",
       "75%    25169.750000                0.920000       88.000000      0.000000\n",
       "max    33380.000000                0.949000      336.000000      1.000000"
      ]
     },
     "execution_count": 66,
     "metadata": {},
     "output_type": "execute_result"
    }
   ],
   "source": [
    "df.describe()"
   ]
  },
  {
   "cell_type": "code",
   "execution_count": 67,
   "id": "855895e4-61e3-4348-9785-238d7e4b764f",
   "metadata": {},
   "outputs": [],
   "source": [
    "cats = ['city', 'gender', 'relevent_experience', 'enrolled_university', 'education_level', 'major_discipline', 'experience', 'company_size', 'company_type', 'last_new_job']\n",
    "nums = ['city_development_index','training_hours','target']"
   ]
  },
  {
   "cell_type": "code",
   "execution_count": 32,
   "id": "04ff0864-70f5-4029-91ee-f46117049fc4",
   "metadata": {},
   "outputs": [
    {
     "data": {
      "text/html": [
       "<div>\n",
       "<style scoped>\n",
       "    .dataframe tbody tr th:only-of-type {\n",
       "        vertical-align: middle;\n",
       "    }\n",
       "\n",
       "    .dataframe tbody tr th {\n",
       "        vertical-align: top;\n",
       "    }\n",
       "\n",
       "    .dataframe thead th {\n",
       "        text-align: right;\n",
       "    }\n",
       "</style>\n",
       "<table border=\"1\" class=\"dataframe\">\n",
       "  <thead>\n",
       "    <tr style=\"text-align: right;\">\n",
       "      <th></th>\n",
       "      <th>city</th>\n",
       "      <th>gender</th>\n",
       "      <th>relevent_experience</th>\n",
       "      <th>enrolled_university</th>\n",
       "      <th>education_level</th>\n",
       "      <th>major_discipline</th>\n",
       "      <th>experience</th>\n",
       "      <th>company_size</th>\n",
       "      <th>company_type</th>\n",
       "      <th>last_new_job</th>\n",
       "    </tr>\n",
       "  </thead>\n",
       "  <tbody>\n",
       "    <tr>\n",
       "      <th>count</th>\n",
       "      <td>19158</td>\n",
       "      <td>14650</td>\n",
       "      <td>19158</td>\n",
       "      <td>18772</td>\n",
       "      <td>18698</td>\n",
       "      <td>16345</td>\n",
       "      <td>19093</td>\n",
       "      <td>13220</td>\n",
       "      <td>13018</td>\n",
       "      <td>18735</td>\n",
       "    </tr>\n",
       "    <tr>\n",
       "      <th>unique</th>\n",
       "      <td>123</td>\n",
       "      <td>3</td>\n",
       "      <td>2</td>\n",
       "      <td>3</td>\n",
       "      <td>5</td>\n",
       "      <td>6</td>\n",
       "      <td>22</td>\n",
       "      <td>8</td>\n",
       "      <td>6</td>\n",
       "      <td>6</td>\n",
       "    </tr>\n",
       "    <tr>\n",
       "      <th>top</th>\n",
       "      <td>city_103</td>\n",
       "      <td>Male</td>\n",
       "      <td>Has relevent experience</td>\n",
       "      <td>no_enrollment</td>\n",
       "      <td>Graduate</td>\n",
       "      <td>STEM</td>\n",
       "      <td>&gt;20</td>\n",
       "      <td>50-99</td>\n",
       "      <td>Pvt Ltd</td>\n",
       "      <td>1</td>\n",
       "    </tr>\n",
       "    <tr>\n",
       "      <th>freq</th>\n",
       "      <td>4355</td>\n",
       "      <td>13221</td>\n",
       "      <td>13792</td>\n",
       "      <td>13817</td>\n",
       "      <td>11598</td>\n",
       "      <td>14492</td>\n",
       "      <td>3286</td>\n",
       "      <td>3083</td>\n",
       "      <td>9817</td>\n",
       "      <td>8040</td>\n",
       "    </tr>\n",
       "  </tbody>\n",
       "</table>\n",
       "</div>"
      ],
      "text/plain": [
       "            city gender      relevent_experience enrolled_university  \\\n",
       "count      19158  14650                    19158               18772   \n",
       "unique       123      3                        2                   3   \n",
       "top     city_103   Male  Has relevent experience       no_enrollment   \n",
       "freq        4355  13221                    13792               13817   \n",
       "\n",
       "       education_level major_discipline experience company_size company_type  \\\n",
       "count            18698            16345      19093        13220        13018   \n",
       "unique               5                6         22            8            6   \n",
       "top           Graduate             STEM        >20        50-99      Pvt Ltd   \n",
       "freq             11598            14492       3286         3083         9817   \n",
       "\n",
       "       last_new_job  \n",
       "count         18735  \n",
       "unique            6  \n",
       "top               1  \n",
       "freq           8040  "
      ]
     },
     "execution_count": 32,
     "metadata": {},
     "output_type": "execute_result"
    }
   ],
   "source": [
    "df[cats].describe()"
   ]
  },
  {
   "cell_type": "markdown",
   "id": "a793853a-8914-46a5-a3cb-4c6c3021510e",
   "metadata": {},
   "source": [
    "karena kolom `city` dan `experience` memiliki unique value yg banyak, maka bisa di drop"
   ]
  },
  {
   "cell_type": "code",
   "execution_count": 68,
   "id": "cda609e3-6051-4d6b-a0f1-2f6d40452ab7",
   "metadata": {},
   "outputs": [],
   "source": [
    "df = df.drop(columns='city')\n",
    "df = df.drop(columns='experience')"
   ]
  },
  {
   "cell_type": "markdown",
   "id": "cc390069-0918-430f-a6ac-63dad2dedf1d",
   "metadata": {},
   "source": [
    "## A. Handle missing values"
   ]
  },
  {
   "cell_type": "code",
   "execution_count": 69,
   "id": "7b14c861-d5de-4fc9-ab3d-1c93cb31bab8",
   "metadata": {},
   "outputs": [
    {
     "data": {
      "text/plain": [
       "enrollee_id                  0\n",
       "city_development_index       0\n",
       "gender                    4508\n",
       "relevent_experience          0\n",
       "enrolled_university        386\n",
       "education_level            460\n",
       "major_discipline          2813\n",
       "company_size              5938\n",
       "company_type              6140\n",
       "last_new_job               423\n",
       "training_hours               0\n",
       "target                       0\n",
       "dtype: int64"
      ]
     },
     "execution_count": 69,
     "metadata": {},
     "output_type": "execute_result"
    }
   ],
   "source": [
    "df.isna().sum()"
   ]
  },
  {
   "cell_type": "markdown",
   "id": "8aaaa1c2-fc06-4e22-bcc1-d5323c922cad",
   "metadata": {},
   "source": [
    "1. Terdapat kolom yang memiliki nilai kosong yaitu pada kolom `gender`, `enrolled_university`, `education_level`, `major_disciplin`, `experience`, `company_size`, `company_type`, dan `last_new_job`"
   ]
  },
  {
   "cell_type": "markdown",
   "id": "66dcccd0-e6c9-421b-aeb3-729e68d71bee",
   "metadata": {},
   "source": [
    "* `enrolled_university`, `education_level`, & `last_new_job` dapat di drop karena jumlahnya kecil (dibawah 5% dari jumlah total baris)\n",
    "* `gender`: impute dengan nilai modus (Male)\n",
    "* `major_discipline`: impute dengan nilai modus (STEM)\n",
    "* `company_size`: impute dengan nilai modus (50-99)\n",
    "* `company_type`: impute dengan nilai modus (Pvt Ltd)"
   ]
  },
  {
   "cell_type": "code",
   "execution_count": 70,
   "id": "6ba239a4-3f3f-401a-ad03-b7d0510679a7",
   "metadata": {},
   "outputs": [
    {
     "data": {
      "text/plain": [
       "enrollee_id                  0\n",
       "city_development_index       0\n",
       "gender                    3883\n",
       "relevent_experience          0\n",
       "enrolled_university          0\n",
       "education_level              0\n",
       "major_discipline          2223\n",
       "company_size              5318\n",
       "company_type              5488\n",
       "last_new_job                 0\n",
       "training_hours               0\n",
       "target                       0\n",
       "dtype: int64"
      ]
     },
     "execution_count": 70,
     "metadata": {},
     "output_type": "execute_result"
    }
   ],
   "source": [
    "df = df.dropna(subset=['enrolled_university','education_level','last_new_job'])\n",
    "df.isna().sum()"
   ]
  },
  {
   "cell_type": "code",
   "execution_count": 71,
   "id": "84907b75-9215-4956-b75c-f79b4292ed46",
   "metadata": {},
   "outputs": [],
   "source": [
    "df['gender'].fillna(df['gender'].mode()[0], inplace=True)\n",
    "df['major_discipline'].fillna(df['major_discipline'].mode()[0], inplace=True)\n",
    "df['company_size'].fillna(df['company_size'].mode()[0], inplace=True)\n",
    "df['company_type'].fillna(df['company_type'].mode()[0], inplace=True)"
   ]
  },
  {
   "cell_type": "code",
   "execution_count": 72,
   "id": "56b3ca52-91c5-4ee6-9de4-703aa1a4315d",
   "metadata": {},
   "outputs": [
    {
     "data": {
      "text/plain": [
       "enrollee_id               0\n",
       "city_development_index    0\n",
       "gender                    0\n",
       "relevent_experience       0\n",
       "enrolled_university       0\n",
       "education_level           0\n",
       "major_discipline          0\n",
       "company_size              0\n",
       "company_type              0\n",
       "last_new_job              0\n",
       "training_hours            0\n",
       "target                    0\n",
       "dtype: int64"
      ]
     },
     "execution_count": 72,
     "metadata": {},
     "output_type": "execute_result"
    }
   ],
   "source": [
    "df.isna().sum()"
   ]
  },
  {
   "cell_type": "markdown",
   "id": "dc1a40ca-17d9-4acb-ad39-451a78b759cf",
   "metadata": {},
   "source": [
    "## B. Handle duplicated data"
   ]
  },
  {
   "cell_type": "code",
   "execution_count": 73,
   "id": "b2e89128-6cab-41dc-a8da-a47ce2d16242",
   "metadata": {},
   "outputs": [
    {
     "data": {
      "text/plain": [
       "0"
      ]
     },
     "execution_count": 73,
     "metadata": {},
     "output_type": "execute_result"
    }
   ],
   "source": [
    "df.duplicated().sum()"
   ]
  },
  {
   "cell_type": "markdown",
   "id": "fdc94214-447f-413c-82b1-f6349b5222c5",
   "metadata": {},
   "source": [
    "Tidak ada data yang duplicate pada dataset HR Analytics"
   ]
  },
  {
   "cell_type": "markdown",
   "id": "72ea6ae5-0af2-4ad0-b88e-4e6043edb20d",
   "metadata": {},
   "source": [
    "## C. Handle outliers"
   ]
  },
  {
   "cell_type": "code",
   "execution_count": 74,
   "id": "49b501a9-b34b-427e-a470-c12fee6aa9f5",
   "metadata": {},
   "outputs": [],
   "source": [
    "from scipy import stats"
   ]
  },
  {
   "cell_type": "code",
   "execution_count": 75,
   "id": "a537a5cd-27c6-48b6-a78d-5333c3d0caaf",
   "metadata": {},
   "outputs": [
    {
     "name": "stdout",
     "output_type": "stream",
     "text": [
      "Jumlah baris sebelum memfilter outlier: 18044\n",
      "Jumlah baris setelah memfilter outlier: 17605\n"
     ]
    }
   ],
   "source": [
    "print(f'Jumlah baris sebelum memfilter outlier: {len(df)}')\n",
    "\n",
    "filtered_entries = np.array([True] * len(df))\n",
    "\n",
    "for col in nums:\n",
    "    zscore = abs(stats.zscore(df[col])) # hitung absolute z-scorenya\n",
    "    filtered_entries = (zscore < 3) & filtered_entries # keep yang kurang dari 3 absolute z-scorenya\n",
    "    \n",
    "df = df[filtered_entries] # filter, cuma ambil yang z-scorenya dibawah 3\n",
    "\n",
    "print(f'Jumlah baris setelah memfilter outlier: {len(df)}')"
   ]
  },
  {
   "cell_type": "markdown",
   "id": "6bf1cefc-7190-4e38-9187-770ab4578328",
   "metadata": {},
   "source": [
    "## D. Feature transformation"
   ]
  },
  {
   "cell_type": "markdown",
   "id": "e2d41359-930c-44eb-b519-6a068cfc84f5",
   "metadata": {},
   "source": [
    "karena kolom `city_development_index` dan `training_hours` skew sehingga perlu dilakukan log transformation"
   ]
  },
  {
   "cell_type": "code",
   "execution_count": 76,
   "id": "28fd4640-2a87-4643-a695-badca0f7700b",
   "metadata": {},
   "outputs": [
    {
     "data": {
      "text/plain": [
       "<AxesSubplot:xlabel='city_development_index', ylabel='Density'>"
      ]
     },
     "execution_count": 76,
     "metadata": {},
     "output_type": "execute_result"
    },
    {
     "data": {
      "image/png": "[encoded data removed]",
      "text/plain": [
       "<Figure size 432x288 with 1 Axes>"
      ]
     },
     "metadata": {
      "needs_background": "light"
     },
     "output_type": "display_data"
    }
   ],
   "source": [
    "sns.kdeplot(df['city_development_index'])"
   ]
  },
  {
   "cell_type": "code",
   "execution_count": 77,
   "id": "619143a1-e14f-4830-abd8-e5eabe90e9d3",
   "metadata": {},
   "outputs": [],
   "source": [
    "from scipy.stats import skewnorm"
   ]
  },
  {
   "cell_type": "code",
   "execution_count": 78,
   "id": "17f43403-fdf6-4422-9095-d0bb46dc392a",
   "metadata": {},
   "outputs": [
    {
     "data": {
      "text/plain": [
       "<AxesSubplot:ylabel='Density'>"
      ]
     },
     "execution_count": 78,
     "metadata": {},
     "output_type": "execute_result"
    },
    {
     "data": {
      "image/png": "[encoded data removed]",
      "text/plain": [
       "<Figure size 432x288 with 1 Axes>"
      ]
     },
     "metadata": {
      "needs_background": "light"
     },
     "output_type": "display_data"
    }
   ],
   "source": [
    "sns.kdeplot(skewnorm.rvs(df['city_development_index'])) #berhasil menggunakan skewnorm"
   ]
  },
  {
   "cell_type": "code",
   "execution_count": 79,
   "id": "11be8fb6-d64b-42e1-9170-9a92d7175237",
   "metadata": {},
   "outputs": [],
   "source": [
    "df['skewnorm_city_development_index'] = skewnorm.rvs(df['city_development_index'])\n",
    "df = df.drop(columns='city_development_index')"
   ]
  },
  {
   "cell_type": "code",
   "execution_count": 80,
   "id": "da1c66e5-6385-4d5d-9a4a-35aec7c236fa",
   "metadata": {},
   "outputs": [
    {
     "data": {
      "text/plain": [
       "<AxesSubplot:xlabel='training_hours', ylabel='Density'>"
      ]
     },
     "execution_count": 80,
     "metadata": {},
     "output_type": "execute_result"
    },
    {
     "data": {
      "image/png": "[encoded data removed]",
      "text/plain": [
       "<Figure size 432x288 with 1 Axes>"
      ]
     },
     "metadata": {
      "needs_background": "light"
     },
     "output_type": "display_data"
    }
   ],
   "source": [
    "sns.kdeplot(df['training_hours'])"
   ]
  },
  {
   "cell_type": "code",
   "execution_count": 81,
   "id": "e6605826-b3eb-45f0-b4e2-c35f6f41efd5",
   "metadata": {},
   "outputs": [
    {
     "data": {
      "text/plain": [
       "<AxesSubplot:xlabel='training_hours', ylabel='Density'>"
      ]
     },
     "execution_count": 81,
     "metadata": {},
     "output_type": "execute_result"
    },
    {
     "data": {
      "image/png": "[encoded data removed]",
      "text/plain": [
       "<Figure size 432x288 with 1 Axes>"
      ]
     },
     "metadata": {
      "needs_background": "light"
     },
     "output_type": "display_data"
    }
   ],
   "source": [
    "sns.kdeplot(np.log(df['training_hours']))"
   ]
  },
  {
   "cell_type": "code",
   "execution_count": 82,
   "id": "7ae5d063-b476-4c38-a03d-e75c4ab935d2",
   "metadata": {},
   "outputs": [],
   "source": [
    "df['log_training_hours'] = np.log(df['training_hours'])\n",
    "df = df.drop(columns='training_hours')"
   ]
  },
  {
   "cell_type": "code",
   "execution_count": 83,
   "id": "e9a7d0ec-6dfe-4280-9557-f3b3fe0dffe1",
   "metadata": {},
   "outputs": [],
   "source": [
    "from sklearn.preprocessing import MinMaxScaler, StandardScaler\n",
    "df['log_training_hours_std'] = StandardScaler().fit_transform(df['log_training_hours'].values.reshape(len(df), 1))\n",
    "df['skewnorm_city_development_index_std'] = StandardScaler().fit_transform(df['skewnorm_city_development_index'].values.reshape(len(df), 1))"
   ]
  },
  {
   "cell_type": "code",
   "execution_count": 84,
   "id": "8ec8ce89-0b64-4d27-b005-285b8de0eff0",
   "metadata": {},
   "outputs": [
    {
     "data": {
      "text/html": [
       "<div>\n",
       "<style scoped>\n",
       "    .dataframe tbody tr th:only-of-type {\n",
       "        vertical-align: middle;\n",
       "    }\n",
       "\n",
       "    .dataframe tbody tr th {\n",
       "        vertical-align: top;\n",
       "    }\n",
       "\n",
       "    .dataframe thead th {\n",
       "        text-align: right;\n",
       "    }\n",
       "</style>\n",
       "<table border=\"1\" class=\"dataframe\">\n",
       "  <thead>\n",
       "    <tr style=\"text-align: right;\">\n",
       "      <th></th>\n",
       "      <th>enrollee_id</th>\n",
       "      <th>target</th>\n",
       "      <th>skewnorm_city_development_index</th>\n",
       "      <th>log_training_hours</th>\n",
       "      <th>log_training_hours_std</th>\n",
       "      <th>skewnorm_city_development_index_std</th>\n",
       "    </tr>\n",
       "  </thead>\n",
       "  <tbody>\n",
       "    <tr>\n",
       "      <th>count</th>\n",
       "      <td>17605.000000</td>\n",
       "      <td>17605.000000</td>\n",
       "      <td>17605.000000</td>\n",
       "      <td>17605.000000</td>\n",
       "      <td>1.760500e+04</td>\n",
       "      <td>1.760500e+04</td>\n",
       "    </tr>\n",
       "    <tr>\n",
       "      <th>mean</th>\n",
       "      <td>16903.373701</td>\n",
       "      <td>0.246294</td>\n",
       "      <td>0.501185</td>\n",
       "      <td>3.716371</td>\n",
       "      <td>3.900317e-16</td>\n",
       "      <td>2.699094e-17</td>\n",
       "    </tr>\n",
       "    <tr>\n",
       "      <th>std</th>\n",
       "      <td>9661.905849</td>\n",
       "      <td>0.430864</td>\n",
       "      <td>0.862124</td>\n",
       "      <td>0.951938</td>\n",
       "      <td>1.000028e+00</td>\n",
       "      <td>1.000028e+00</td>\n",
       "    </tr>\n",
       "    <tr>\n",
       "      <th>min</th>\n",
       "      <td>1.000000</td>\n",
       "      <td>0.000000</td>\n",
       "      <td>-2.896468</td>\n",
       "      <td>0.000000</td>\n",
       "      <td>-3.904117e+00</td>\n",
       "      <td>-3.941139e+00</td>\n",
       "    </tr>\n",
       "    <tr>\n",
       "      <th>25%</th>\n",
       "      <td>8535.000000</td>\n",
       "      <td>0.000000</td>\n",
       "      <td>-0.080818</td>\n",
       "      <td>3.135494</td>\n",
       "      <td>-6.102215e-01</td>\n",
       "      <td>-6.750998e-01</td>\n",
       "    </tr>\n",
       "    <tr>\n",
       "      <th>50%</th>\n",
       "      <td>17023.000000</td>\n",
       "      <td>0.000000</td>\n",
       "      <td>0.484870</td>\n",
       "      <td>3.828641</td>\n",
       "      <td>1.179426e-01</td>\n",
       "      <td>-1.892452e-02</td>\n",
       "    </tr>\n",
       "    <tr>\n",
       "      <th>75%</th>\n",
       "      <td>25317.000000</td>\n",
       "      <td>0.000000</td>\n",
       "      <td>1.073822</td>\n",
       "      <td>4.430817</td>\n",
       "      <td>7.505392e-01</td>\n",
       "      <td>6.642364e-01</td>\n",
       "    </tr>\n",
       "    <tr>\n",
       "      <th>max</th>\n",
       "      <td>33380.000000</td>\n",
       "      <td>1.000000</td>\n",
       "      <td>4.615778</td>\n",
       "      <td>5.497168</td>\n",
       "      <td>1.870761e+00</td>\n",
       "      <td>4.772760e+00</td>\n",
       "    </tr>\n",
       "  </tbody>\n",
       "</table>\n",
       "</div>"
      ],
      "text/plain": [
       "        enrollee_id        target  skewnorm_city_development_index  \\\n",
       "count  17605.000000  17605.000000                     17605.000000   \n",
       "mean   16903.373701      0.246294                         0.501185   \n",
       "std     9661.905849      0.430864                         0.862124   \n",
       "min        1.000000      0.000000                        -2.896468   \n",
       "25%     8535.000000      0.000000                        -0.080818   \n",
       "50%    17023.000000      0.000000                         0.484870   \n",
       "75%    25317.000000      0.000000                         1.073822   \n",
       "max    33380.000000      1.000000                         4.615778   \n",
       "\n",
       "       log_training_hours  log_training_hours_std  \\\n",
       "count        17605.000000            1.760500e+04   \n",
       "mean             3.716371            3.900317e-16   \n",
       "std              0.951938            1.000028e+00   \n",
       "min              0.000000           -3.904117e+00   \n",
       "25%              3.135494           -6.102215e-01   \n",
       "50%              3.828641            1.179426e-01   \n",
       "75%              4.430817            7.505392e-01   \n",
       "max              5.497168            1.870761e+00   \n",
       "\n",
       "       skewnorm_city_development_index_std  \n",
       "count                         1.760500e+04  \n",
       "mean                          2.699094e-17  \n",
       "std                           1.000028e+00  \n",
       "min                          -3.941139e+00  \n",
       "25%                          -6.750998e-01  \n",
       "50%                          -1.892452e-02  \n",
       "75%                           6.642364e-01  \n",
       "max                           4.772760e+00  "
      ]
     },
     "execution_count": 84,
     "metadata": {},
     "output_type": "execute_result"
    }
   ],
   "source": [
    "df.describe()"
   ]
  },
  {
   "cell_type": "markdown",
   "id": "1ec00b12-96bd-4244-aa49-e17a594329b0",
   "metadata": {},
   "source": [
    "### E. Feature encoding"
   ]
  },
  {
   "cell_type": "code",
   "execution_count": 85,
   "id": "3b3ca54d-06e7-4c05-9e7f-5aa443456dba",
   "metadata": {},
   "outputs": [
    {
     "name": "stdout",
     "output_type": "stream",
     "text": [
      "value counts of column gender\n",
      "Male      16252\n",
      "Female     1182\n",
      "Other       171\n",
      "Name: gender, dtype: int64\n",
      "------------------------------ \n",
      "\n",
      "value counts of column relevent_experience\n",
      "Has relevent experience    12891\n",
      "No relevent experience      4714\n",
      "Name: relevent_experience, dtype: int64\n",
      "------------------------------ \n",
      "\n",
      "value counts of column enrolled_university\n",
      "no_enrollment       13049\n",
      "Full time course     3444\n",
      "Part time course     1112\n",
      "Name: enrolled_university, dtype: int64\n",
      "------------------------------ \n",
      "\n",
      "value counts of column education_level\n",
      "Graduate          10931\n",
      "Masters            4140\n",
      "High School        1862\n",
      "Phd                 388\n",
      "Primary School      284\n",
      "Name: education_level, dtype: int64\n",
      "------------------------------ \n",
      "\n",
      "value counts of column major_discipline\n",
      "STEM               15836\n",
      "Humanities           641\n",
      "Other                359\n",
      "Business Degree      316\n",
      "Arts                 246\n",
      "No Major             207\n",
      "Name: major_discipline, dtype: int64\n",
      "------------------------------ \n",
      "\n",
      "value counts of column company_size\n",
      "50-99        8068\n",
      "100-500      2425\n",
      "10000+       1917\n",
      "10/49        1357\n",
      "1000-4999    1259\n",
      "<10          1212\n",
      "500-999       829\n",
      "5000-9999     538\n",
      "Name: company_size, dtype: int64\n",
      "------------------------------ \n",
      "\n",
      "value counts of column company_type\n",
      "Pvt Ltd                14621\n",
      "Funded Startup           950\n",
      "Public Sector            895\n",
      "Early Stage Startup      548\n",
      "NGO                      480\n",
      "Other                    111\n",
      "Name: company_type, dtype: int64\n",
      "------------------------------ \n",
      "\n",
      "value counts of column last_new_job\n",
      "1        7609\n",
      ">4       3151\n",
      "2        2755\n",
      "never    2135\n",
      "4         987\n",
      "3         968\n",
      "Name: last_new_job, dtype: int64\n",
      "------------------------------ \n",
      "\n"
     ]
    }
   ],
   "source": [
    "cats_updated = ['gender', 'relevent_experience', 'enrolled_university', 'education_level', 'major_discipline', 'company_size', 'company_type', 'last_new_job']\n",
    "\n",
    "for col in cats_updated:\n",
    "  print(f'value counts of column {col}')\n",
    "  print(df[col].value_counts())\n",
    "  print('---'*10, '\\n')"
   ]
  },
  {
   "cell_type": "code",
   "execution_count": 94,
   "id": "7e179616-3288-4864-8975-640830413fa2",
   "metadata": {
    "scrolled": true,
    "tags": []
   },
   "outputs": [
    {
     "data": {
      "text/html": [
       "<div>\n",
       "<style scoped>\n",
       "    .dataframe tbody tr th:only-of-type {\n",
       "        vertical-align: middle;\n",
       "    }\n",
       "\n",
       "    .dataframe tbody tr th {\n",
       "        vertical-align: top;\n",
       "    }\n",
       "\n",
       "    .dataframe thead th {\n",
       "        text-align: right;\n",
       "    }\n",
       "</style>\n",
       "<table border=\"1\" class=\"dataframe\">\n",
       "  <thead>\n",
       "    <tr style=\"text-align: right;\">\n",
       "      <th></th>\n",
       "      <th>enrollee_id</th>\n",
       "      <th>gender</th>\n",
       "      <th>relevent_experience</th>\n",
       "      <th>enrolled_university</th>\n",
       "      <th>education_level</th>\n",
       "      <th>major_discipline</th>\n",
       "      <th>company_size</th>\n",
       "      <th>company_type</th>\n",
       "      <th>last_new_job</th>\n",
       "      <th>target</th>\n",
       "      <th>skewnorm_city_development_index</th>\n",
       "      <th>log_training_hours</th>\n",
       "      <th>log_training_hours_std</th>\n",
       "      <th>skewnorm_city_development_index_std</th>\n",
       "    </tr>\n",
       "  </thead>\n",
       "  <tbody>\n",
       "    <tr>\n",
       "      <th>0</th>\n",
       "      <td>8949</td>\n",
       "      <td>Male</td>\n",
       "      <td>Has relevent experience</td>\n",
       "      <td>no_enrollment</td>\n",
       "      <td>Graduate</td>\n",
       "      <td>STEM</td>\n",
       "      <td>50-99</td>\n",
       "      <td>Pvt Ltd</td>\n",
       "      <td>1</td>\n",
       "      <td>1.0</td>\n",
       "      <td>-0.378943</td>\n",
       "      <td>3.583519</td>\n",
       "      <td>-0.139563</td>\n",
       "      <td>-1.020912</td>\n",
       "    </tr>\n",
       "    <tr>\n",
       "      <th>1</th>\n",
       "      <td>29725</td>\n",
       "      <td>Male</td>\n",
       "      <td>No relevent experience</td>\n",
       "      <td>no_enrollment</td>\n",
       "      <td>Graduate</td>\n",
       "      <td>STEM</td>\n",
       "      <td>50-99</td>\n",
       "      <td>Pvt Ltd</td>\n",
       "      <td>&gt;4</td>\n",
       "      <td>0.0</td>\n",
       "      <td>-0.864646</td>\n",
       "      <td>3.850148</td>\n",
       "      <td>0.140535</td>\n",
       "      <td>-1.584308</td>\n",
       "    </tr>\n",
       "    <tr>\n",
       "      <th>2</th>\n",
       "      <td>11561</td>\n",
       "      <td>Male</td>\n",
       "      <td>No relevent experience</td>\n",
       "      <td>Full time course</td>\n",
       "      <td>Graduate</td>\n",
       "      <td>STEM</td>\n",
       "      <td>50-99</td>\n",
       "      <td>Pvt Ltd</td>\n",
       "      <td>never</td>\n",
       "      <td>0.0</td>\n",
       "      <td>1.020215</td>\n",
       "      <td>4.418841</td>\n",
       "      <td>0.737958</td>\n",
       "      <td>0.602054</td>\n",
       "    </tr>\n",
       "    <tr>\n",
       "      <th>4</th>\n",
       "      <td>666</td>\n",
       "      <td>Male</td>\n",
       "      <td>Has relevent experience</td>\n",
       "      <td>no_enrollment</td>\n",
       "      <td>Masters</td>\n",
       "      <td>STEM</td>\n",
       "      <td>50-99</td>\n",
       "      <td>Funded Startup</td>\n",
       "      <td>4</td>\n",
       "      <td>0.0</td>\n",
       "      <td>2.444795</td>\n",
       "      <td>2.079442</td>\n",
       "      <td>-1.719625</td>\n",
       "      <td>2.254509</td>\n",
       "    </tr>\n",
       "    <tr>\n",
       "      <th>5</th>\n",
       "      <td>21651</td>\n",
       "      <td>Male</td>\n",
       "      <td>Has relevent experience</td>\n",
       "      <td>Part time course</td>\n",
       "      <td>Graduate</td>\n",
       "      <td>STEM</td>\n",
       "      <td>50-99</td>\n",
       "      <td>Pvt Ltd</td>\n",
       "      <td>1</td>\n",
       "      <td>1.0</td>\n",
       "      <td>-0.469737</td>\n",
       "      <td>3.178054</td>\n",
       "      <td>-0.565512</td>\n",
       "      <td>-1.126230</td>\n",
       "    </tr>\n",
       "    <tr>\n",
       "      <th>...</th>\n",
       "      <td>...</td>\n",
       "      <td>...</td>\n",
       "      <td>...</td>\n",
       "      <td>...</td>\n",
       "      <td>...</td>\n",
       "      <td>...</td>\n",
       "      <td>...</td>\n",
       "      <td>...</td>\n",
       "      <td>...</td>\n",
       "      <td>...</td>\n",
       "      <td>...</td>\n",
       "      <td>...</td>\n",
       "      <td>...</td>\n",
       "      <td>...</td>\n",
       "    </tr>\n",
       "    <tr>\n",
       "      <th>19153</th>\n",
       "      <td>7386</td>\n",
       "      <td>Male</td>\n",
       "      <td>No relevent experience</td>\n",
       "      <td>no_enrollment</td>\n",
       "      <td>Graduate</td>\n",
       "      <td>Humanities</td>\n",
       "      <td>50-99</td>\n",
       "      <td>Pvt Ltd</td>\n",
       "      <td>1</td>\n",
       "      <td>1.0</td>\n",
       "      <td>0.796149</td>\n",
       "      <td>3.737670</td>\n",
       "      <td>0.022375</td>\n",
       "      <td>0.342147</td>\n",
       "    </tr>\n",
       "    <tr>\n",
       "      <th>19154</th>\n",
       "      <td>31398</td>\n",
       "      <td>Male</td>\n",
       "      <td>Has relevent experience</td>\n",
       "      <td>no_enrollment</td>\n",
       "      <td>Graduate</td>\n",
       "      <td>STEM</td>\n",
       "      <td>50-99</td>\n",
       "      <td>Pvt Ltd</td>\n",
       "      <td>4</td>\n",
       "      <td>1.0</td>\n",
       "      <td>0.522035</td>\n",
       "      <td>3.951244</td>\n",
       "      <td>0.246739</td>\n",
       "      <td>0.024185</td>\n",
       "    </tr>\n",
       "    <tr>\n",
       "      <th>19155</th>\n",
       "      <td>24576</td>\n",
       "      <td>Male</td>\n",
       "      <td>Has relevent experience</td>\n",
       "      <td>no_enrollment</td>\n",
       "      <td>Graduate</td>\n",
       "      <td>STEM</td>\n",
       "      <td>50-99</td>\n",
       "      <td>Pvt Ltd</td>\n",
       "      <td>4</td>\n",
       "      <td>0.0</td>\n",
       "      <td>0.662042</td>\n",
       "      <td>3.784190</td>\n",
       "      <td>0.071245</td>\n",
       "      <td>0.186588</td>\n",
       "    </tr>\n",
       "    <tr>\n",
       "      <th>19156</th>\n",
       "      <td>5756</td>\n",
       "      <td>Male</td>\n",
       "      <td>Has relevent experience</td>\n",
       "      <td>no_enrollment</td>\n",
       "      <td>High School</td>\n",
       "      <td>STEM</td>\n",
       "      <td>500-999</td>\n",
       "      <td>Pvt Ltd</td>\n",
       "      <td>2</td>\n",
       "      <td>0.0</td>\n",
       "      <td>1.327812</td>\n",
       "      <td>4.574711</td>\n",
       "      <td>0.901703</td>\n",
       "      <td>0.958854</td>\n",
       "    </tr>\n",
       "    <tr>\n",
       "      <th>19157</th>\n",
       "      <td>23834</td>\n",
       "      <td>Male</td>\n",
       "      <td>No relevent experience</td>\n",
       "      <td>no_enrollment</td>\n",
       "      <td>Primary School</td>\n",
       "      <td>STEM</td>\n",
       "      <td>50-99</td>\n",
       "      <td>Pvt Ltd</td>\n",
       "      <td>1</td>\n",
       "      <td>0.0</td>\n",
       "      <td>-0.927569</td>\n",
       "      <td>4.844187</td>\n",
       "      <td>1.184792</td>\n",
       "      <td>-1.657296</td>\n",
       "    </tr>\n",
       "  </tbody>\n",
       "</table>\n",
       "<p>17434 rows × 14 columns</p>\n",
       "</div>"
      ],
      "text/plain": [
       "       enrollee_id gender      relevent_experience enrolled_university  \\\n",
       "0             8949   Male  Has relevent experience       no_enrollment   \n",
       "1            29725   Male   No relevent experience       no_enrollment   \n",
       "2            11561   Male   No relevent experience    Full time course   \n",
       "4              666   Male  Has relevent experience       no_enrollment   \n",
       "5            21651   Male  Has relevent experience    Part time course   \n",
       "...            ...    ...                      ...                 ...   \n",
       "19153         7386   Male   No relevent experience       no_enrollment   \n",
       "19154        31398   Male  Has relevent experience       no_enrollment   \n",
       "19155        24576   Male  Has relevent experience       no_enrollment   \n",
       "19156         5756   Male  Has relevent experience       no_enrollment   \n",
       "19157        23834   Male   No relevent experience       no_enrollment   \n",
       "\n",
       "      education_level major_discipline company_size    company_type  \\\n",
       "0            Graduate             STEM        50-99         Pvt Ltd   \n",
       "1            Graduate             STEM        50-99         Pvt Ltd   \n",
       "2            Graduate             STEM        50-99         Pvt Ltd   \n",
       "4             Masters             STEM        50-99  Funded Startup   \n",
       "5            Graduate             STEM        50-99         Pvt Ltd   \n",
       "...               ...              ...          ...             ...   \n",
       "19153        Graduate       Humanities        50-99         Pvt Ltd   \n",
       "19154        Graduate             STEM        50-99         Pvt Ltd   \n",
       "19155        Graduate             STEM        50-99         Pvt Ltd   \n",
       "19156     High School             STEM      500-999         Pvt Ltd   \n",
       "19157  Primary School             STEM        50-99         Pvt Ltd   \n",
       "\n",
       "      last_new_job  target  skewnorm_city_development_index  \\\n",
       "0                1     1.0                        -0.378943   \n",
       "1               >4     0.0                        -0.864646   \n",
       "2            never     0.0                         1.020215   \n",
       "4                4     0.0                         2.444795   \n",
       "5                1     1.0                        -0.469737   \n",
       "...            ...     ...                              ...   \n",
       "19153            1     1.0                         0.796149   \n",
       "19154            4     1.0                         0.522035   \n",
       "19155            4     0.0                         0.662042   \n",
       "19156            2     0.0                         1.327812   \n",
       "19157            1     0.0                        -0.927569   \n",
       "\n",
       "       log_training_hours  log_training_hours_std  \\\n",
       "0                3.583519               -0.139563   \n",
       "1                3.850148                0.140535   \n",
       "2                4.418841                0.737958   \n",
       "4                2.079442               -1.719625   \n",
       "5                3.178054               -0.565512   \n",
       "...                   ...                     ...   \n",
       "19153            3.737670                0.022375   \n",
       "19154            3.951244                0.246739   \n",
       "19155            3.784190                0.071245   \n",
       "19156            4.574711                0.901703   \n",
       "19157            4.844187                1.184792   \n",
       "\n",
       "       skewnorm_city_development_index_std  \n",
       "0                                -1.020912  \n",
       "1                                -1.584308  \n",
       "2                                 0.602054  \n",
       "4                                 2.254509  \n",
       "5                                -1.126230  \n",
       "...                                    ...  \n",
       "19153                             0.342147  \n",
       "19154                             0.024185  \n",
       "19155                             0.186588  \n",
       "19156                             0.958854  \n",
       "19157                            -1.657296  \n",
       "\n",
       "[17434 rows x 14 columns]"
      ]
     },
     "execution_count": 94,
     "metadata": {},
     "output_type": "execute_result"
    }
   ],
   "source": [
    "# menghapus Other pada feature Gender karena tidak relate dengan gender manapun dan nilainya kecil sehingga bisa didrop, sehingga gender bisa Label Encoding\n",
    "df = df[ ~(df['gender'] == 'Other')]\n",
    "df"
   ]
  },
  {
   "cell_type": "code",
   "execution_count": 95,
   "id": "257a104f-d545-4456-9a0e-154041827828",
   "metadata": {},
   "outputs": [
    {
     "data": {
      "text/plain": [
       "Male      16252\n",
       "Female     1182\n",
       "Name: gender, dtype: int64"
      ]
     },
     "execution_count": 95,
     "metadata": {},
     "output_type": "execute_result"
    }
   ],
   "source": [
    "df['gender'].value_counts()"
   ]
  },
  {
   "cell_type": "markdown",
   "id": "d8b86aa0-c0ff-461c-ab51-410a84874dcb",
   "metadata": {},
   "source": [
    "* `gender`, `relevent_experience`, `enrolled_university`, & `education_level`: Label encoding\n",
    "* `major_discipline`, `company_size`, `company_type`, `last_new_job`: One Hot Encoding"
   ]
  },
  {
   "cell_type": "code",
   "execution_count": 96,
   "id": "79537b58-39fe-48dc-bd52-85fdc24ac537",
   "metadata": {},
   "outputs": [],
   "source": [
    "mapping_gender = {\n",
    "    'Male' : 0,\n",
    "    'Female' : 1\n",
    "}\n",
    "\n",
    "mapping_pengalaman = {\n",
    "    'No relevent experience' : 0,\n",
    "    'Has relevent experience' : 1\n",
    "}\n",
    "\n",
    "mapping_enrolled_university = {\n",
    "    'no_enrollment' : 0,\n",
    "    'Part time course' : 1,\n",
    "    'Full time course' : 2\n",
    "}\n",
    "\n",
    "mapping_pendidikan = {\n",
    "    'Primary School' : 0,\n",
    "    'High School' : 1,\n",
    "    'Graduate' : 2,\n",
    "    'Masters' : 3,\n",
    "    'Phd' : 4\n",
    "}\n",
    "\n",
    "df['gender'] = df['gender'].map(mapping_gender)\n",
    "df['relevent_experience'] = df['relevent_experience'].map(mapping_pengalaman)\n",
    "df['enrolled_university'] = df['enrolled_university'].map(mapping_enrolled_university)\n",
    "df['education_level'] = df['education_level'].map(mapping_pendidikan)"
   ]
  },
  {
   "cell_type": "code",
   "execution_count": 97,
   "id": "e55a4e4d-29cc-4bfa-9093-9274b27c95a7",
   "metadata": {},
   "outputs": [],
   "source": [
    "for cat in ['major_discipline', 'company_size', 'company_type', 'last_new_job']:\n",
    "    onehots = pd.get_dummies(df[cat], prefix=cat)\n",
    "    df = df.join(onehots)"
   ]
  },
  {
   "cell_type": "code",
   "execution_count": 98,
   "id": "e21a0f33-0b58-4bb2-8881-4f1fa314ad60",
   "metadata": {},
   "outputs": [],
   "source": [
    "# drop kolom major_discipline, company_size, company_type, last_new_job yang asli (karena sudah di-encoding)\n",
    "df = df.drop(columns=['major_discipline','company_size','company_type', 'last_new_job',])"
   ]
  },
  {
   "cell_type": "code",
   "execution_count": 99,
   "id": "ada883db-e78f-405e-9c15-491fdeee1e46",
   "metadata": {},
   "outputs": [
    {
     "data": {
      "text/html": [
       "<div>\n",
       "<style scoped>\n",
       "    .dataframe tbody tr th:only-of-type {\n",
       "        vertical-align: middle;\n",
       "    }\n",
       "\n",
       "    .dataframe tbody tr th {\n",
       "        vertical-align: top;\n",
       "    }\n",
       "\n",
       "    .dataframe thead th {\n",
       "        text-align: right;\n",
       "    }\n",
       "</style>\n",
       "<table border=\"1\" class=\"dataframe\">\n",
       "  <thead>\n",
       "    <tr style=\"text-align: right;\">\n",
       "      <th></th>\n",
       "      <th>enrollee_id</th>\n",
       "      <th>gender</th>\n",
       "      <th>relevent_experience</th>\n",
       "      <th>enrolled_university</th>\n",
       "      <th>education_level</th>\n",
       "      <th>target</th>\n",
       "      <th>skewnorm_city_development_index</th>\n",
       "      <th>log_training_hours</th>\n",
       "      <th>log_training_hours_std</th>\n",
       "      <th>skewnorm_city_development_index_std</th>\n",
       "      <th>...</th>\n",
       "      <th>company_type_NGO</th>\n",
       "      <th>company_type_Other</th>\n",
       "      <th>company_type_Public Sector</th>\n",
       "      <th>company_type_Pvt Ltd</th>\n",
       "      <th>last_new_job_1</th>\n",
       "      <th>last_new_job_2</th>\n",
       "      <th>last_new_job_3</th>\n",
       "      <th>last_new_job_4</th>\n",
       "      <th>last_new_job_&gt;4</th>\n",
       "      <th>last_new_job_never</th>\n",
       "    </tr>\n",
       "  </thead>\n",
       "  <tbody>\n",
       "    <tr>\n",
       "      <th>0</th>\n",
       "      <td>8949</td>\n",
       "      <td>0</td>\n",
       "      <td>1</td>\n",
       "      <td>0</td>\n",
       "      <td>2</td>\n",
       "      <td>1.0</td>\n",
       "      <td>-0.378943</td>\n",
       "      <td>3.583519</td>\n",
       "      <td>-0.139563</td>\n",
       "      <td>-1.020912</td>\n",
       "      <td>...</td>\n",
       "      <td>0</td>\n",
       "      <td>0</td>\n",
       "      <td>0</td>\n",
       "      <td>1</td>\n",
       "      <td>1</td>\n",
       "      <td>0</td>\n",
       "      <td>0</td>\n",
       "      <td>0</td>\n",
       "      <td>0</td>\n",
       "      <td>0</td>\n",
       "    </tr>\n",
       "    <tr>\n",
       "      <th>1</th>\n",
       "      <td>29725</td>\n",
       "      <td>0</td>\n",
       "      <td>0</td>\n",
       "      <td>0</td>\n",
       "      <td>2</td>\n",
       "      <td>0.0</td>\n",
       "      <td>-0.864646</td>\n",
       "      <td>3.850148</td>\n",
       "      <td>0.140535</td>\n",
       "      <td>-1.584308</td>\n",
       "      <td>...</td>\n",
       "      <td>0</td>\n",
       "      <td>0</td>\n",
       "      <td>0</td>\n",
       "      <td>1</td>\n",
       "      <td>0</td>\n",
       "      <td>0</td>\n",
       "      <td>0</td>\n",
       "      <td>0</td>\n",
       "      <td>1</td>\n",
       "      <td>0</td>\n",
       "    </tr>\n",
       "    <tr>\n",
       "      <th>2</th>\n",
       "      <td>11561</td>\n",
       "      <td>0</td>\n",
       "      <td>0</td>\n",
       "      <td>2</td>\n",
       "      <td>2</td>\n",
       "      <td>0.0</td>\n",
       "      <td>1.020215</td>\n",
       "      <td>4.418841</td>\n",
       "      <td>0.737958</td>\n",
       "      <td>0.602054</td>\n",
       "      <td>...</td>\n",
       "      <td>0</td>\n",
       "      <td>0</td>\n",
       "      <td>0</td>\n",
       "      <td>1</td>\n",
       "      <td>0</td>\n",
       "      <td>0</td>\n",
       "      <td>0</td>\n",
       "      <td>0</td>\n",
       "      <td>0</td>\n",
       "      <td>1</td>\n",
       "    </tr>\n",
       "    <tr>\n",
       "      <th>4</th>\n",
       "      <td>666</td>\n",
       "      <td>0</td>\n",
       "      <td>1</td>\n",
       "      <td>0</td>\n",
       "      <td>3</td>\n",
       "      <td>0.0</td>\n",
       "      <td>2.444795</td>\n",
       "      <td>2.079442</td>\n",
       "      <td>-1.719625</td>\n",
       "      <td>2.254509</td>\n",
       "      <td>...</td>\n",
       "      <td>0</td>\n",
       "      <td>0</td>\n",
       "      <td>0</td>\n",
       "      <td>0</td>\n",
       "      <td>0</td>\n",
       "      <td>0</td>\n",
       "      <td>0</td>\n",
       "      <td>1</td>\n",
       "      <td>0</td>\n",
       "      <td>0</td>\n",
       "    </tr>\n",
       "    <tr>\n",
       "      <th>5</th>\n",
       "      <td>21651</td>\n",
       "      <td>0</td>\n",
       "      <td>1</td>\n",
       "      <td>1</td>\n",
       "      <td>2</td>\n",
       "      <td>1.0</td>\n",
       "      <td>-0.469737</td>\n",
       "      <td>3.178054</td>\n",
       "      <td>-0.565512</td>\n",
       "      <td>-1.126230</td>\n",
       "      <td>...</td>\n",
       "      <td>0</td>\n",
       "      <td>0</td>\n",
       "      <td>0</td>\n",
       "      <td>1</td>\n",
       "      <td>1</td>\n",
       "      <td>0</td>\n",
       "      <td>0</td>\n",
       "      <td>0</td>\n",
       "      <td>0</td>\n",
       "      <td>0</td>\n",
       "    </tr>\n",
       "    <tr>\n",
       "      <th>...</th>\n",
       "      <td>...</td>\n",
       "      <td>...</td>\n",
       "      <td>...</td>\n",
       "      <td>...</td>\n",
       "      <td>...</td>\n",
       "      <td>...</td>\n",
       "      <td>...</td>\n",
       "      <td>...</td>\n",
       "      <td>...</td>\n",
       "      <td>...</td>\n",
       "      <td>...</td>\n",
       "      <td>...</td>\n",
       "      <td>...</td>\n",
       "      <td>...</td>\n",
       "      <td>...</td>\n",
       "      <td>...</td>\n",
       "      <td>...</td>\n",
       "      <td>...</td>\n",
       "      <td>...</td>\n",
       "      <td>...</td>\n",
       "      <td>...</td>\n",
       "    </tr>\n",
       "    <tr>\n",
       "      <th>19153</th>\n",
       "      <td>7386</td>\n",
       "      <td>0</td>\n",
       "      <td>0</td>\n",
       "      <td>0</td>\n",
       "      <td>2</td>\n",
       "      <td>1.0</td>\n",
       "      <td>0.796149</td>\n",
       "      <td>3.737670</td>\n",
       "      <td>0.022375</td>\n",
       "      <td>0.342147</td>\n",
       "      <td>...</td>\n",
       "      <td>0</td>\n",
       "      <td>0</td>\n",
       "      <td>0</td>\n",
       "      <td>1</td>\n",
       "      <td>1</td>\n",
       "      <td>0</td>\n",
       "      <td>0</td>\n",
       "      <td>0</td>\n",
       "      <td>0</td>\n",
       "      <td>0</td>\n",
       "    </tr>\n",
       "    <tr>\n",
       "      <th>19154</th>\n",
       "      <td>31398</td>\n",
       "      <td>0</td>\n",
       "      <td>1</td>\n",
       "      <td>0</td>\n",
       "      <td>2</td>\n",
       "      <td>1.0</td>\n",
       "      <td>0.522035</td>\n",
       "      <td>3.951244</td>\n",
       "      <td>0.246739</td>\n",
       "      <td>0.024185</td>\n",
       "      <td>...</td>\n",
       "      <td>0</td>\n",
       "      <td>0</td>\n",
       "      <td>0</td>\n",
       "      <td>1</td>\n",
       "      <td>0</td>\n",
       "      <td>0</td>\n",
       "      <td>0</td>\n",
       "      <td>1</td>\n",
       "      <td>0</td>\n",
       "      <td>0</td>\n",
       "    </tr>\n",
       "    <tr>\n",
       "      <th>19155</th>\n",
       "      <td>24576</td>\n",
       "      <td>0</td>\n",
       "      <td>1</td>\n",
       "      <td>0</td>\n",
       "      <td>2</td>\n",
       "      <td>0.0</td>\n",
       "      <td>0.662042</td>\n",
       "      <td>3.784190</td>\n",
       "      <td>0.071245</td>\n",
       "      <td>0.186588</td>\n",
       "      <td>...</td>\n",
       "      <td>0</td>\n",
       "      <td>0</td>\n",
       "      <td>0</td>\n",
       "      <td>1</td>\n",
       "      <td>0</td>\n",
       "      <td>0</td>\n",
       "      <td>0</td>\n",
       "      <td>1</td>\n",
       "      <td>0</td>\n",
       "      <td>0</td>\n",
       "    </tr>\n",
       "    <tr>\n",
       "      <th>19156</th>\n",
       "      <td>5756</td>\n",
       "      <td>0</td>\n",
       "      <td>1</td>\n",
       "      <td>0</td>\n",
       "      <td>1</td>\n",
       "      <td>0.0</td>\n",
       "      <td>1.327812</td>\n",
       "      <td>4.574711</td>\n",
       "      <td>0.901703</td>\n",
       "      <td>0.958854</td>\n",
       "      <td>...</td>\n",
       "      <td>0</td>\n",
       "      <td>0</td>\n",
       "      <td>0</td>\n",
       "      <td>1</td>\n",
       "      <td>0</td>\n",
       "      <td>1</td>\n",
       "      <td>0</td>\n",
       "      <td>0</td>\n",
       "      <td>0</td>\n",
       "      <td>0</td>\n",
       "    </tr>\n",
       "    <tr>\n",
       "      <th>19157</th>\n",
       "      <td>23834</td>\n",
       "      <td>0</td>\n",
       "      <td>0</td>\n",
       "      <td>0</td>\n",
       "      <td>0</td>\n",
       "      <td>0.0</td>\n",
       "      <td>-0.927569</td>\n",
       "      <td>4.844187</td>\n",
       "      <td>1.184792</td>\n",
       "      <td>-1.657296</td>\n",
       "      <td>...</td>\n",
       "      <td>0</td>\n",
       "      <td>0</td>\n",
       "      <td>0</td>\n",
       "      <td>1</td>\n",
       "      <td>1</td>\n",
       "      <td>0</td>\n",
       "      <td>0</td>\n",
       "      <td>0</td>\n",
       "      <td>0</td>\n",
       "      <td>0</td>\n",
       "    </tr>\n",
       "  </tbody>\n",
       "</table>\n",
       "<p>17434 rows × 36 columns</p>\n",
       "</div>"
      ],
      "text/plain": [
       "       enrollee_id  gender  relevent_experience  enrolled_university  \\\n",
       "0             8949       0                    1                    0   \n",
       "1            29725       0                    0                    0   \n",
       "2            11561       0                    0                    2   \n",
       "4              666       0                    1                    0   \n",
       "5            21651       0                    1                    1   \n",
       "...            ...     ...                  ...                  ...   \n",
       "19153         7386       0                    0                    0   \n",
       "19154        31398       0                    1                    0   \n",
       "19155        24576       0                    1                    0   \n",
       "19156         5756       0                    1                    0   \n",
       "19157        23834       0                    0                    0   \n",
       "\n",
       "       education_level  target  skewnorm_city_development_index  \\\n",
       "0                    2     1.0                        -0.378943   \n",
       "1                    2     0.0                        -0.864646   \n",
       "2                    2     0.0                         1.020215   \n",
       "4                    3     0.0                         2.444795   \n",
       "5                    2     1.0                        -0.469737   \n",
       "...                ...     ...                              ...   \n",
       "19153                2     1.0                         0.796149   \n",
       "19154                2     1.0                         0.522035   \n",
       "19155                2     0.0                         0.662042   \n",
       "19156                1     0.0                         1.327812   \n",
       "19157                0     0.0                        -0.927569   \n",
       "\n",
       "       log_training_hours  log_training_hours_std  \\\n",
       "0                3.583519               -0.139563   \n",
       "1                3.850148                0.140535   \n",
       "2                4.418841                0.737958   \n",
       "4                2.079442               -1.719625   \n",
       "5                3.178054               -0.565512   \n",
       "...                   ...                     ...   \n",
       "19153            3.737670                0.022375   \n",
       "19154            3.951244                0.246739   \n",
       "19155            3.784190                0.071245   \n",
       "19156            4.574711                0.901703   \n",
       "19157            4.844187                1.184792   \n",
       "\n",
       "       skewnorm_city_development_index_std  ...  company_type_NGO  \\\n",
       "0                                -1.020912  ...                 0   \n",
       "1                                -1.584308  ...                 0   \n",
       "2                                 0.602054  ...                 0   \n",
       "4                                 2.254509  ...                 0   \n",
       "5                                -1.126230  ...                 0   \n",
       "...                                    ...  ...               ...   \n",
       "19153                             0.342147  ...                 0   \n",
       "19154                             0.024185  ...                 0   \n",
       "19155                             0.186588  ...                 0   \n",
       "19156                             0.958854  ...                 0   \n",
       "19157                            -1.657296  ...                 0   \n",
       "\n",
       "       company_type_Other  company_type_Public Sector  company_type_Pvt Ltd  \\\n",
       "0                       0                           0                     1   \n",
       "1                       0                           0                     1   \n",
       "2                       0                           0                     1   \n",
       "4                       0                           0                     0   \n",
       "5                       0                           0                     1   \n",
       "...                   ...                         ...                   ...   \n",
       "19153                   0                           0                     1   \n",
       "19154                   0                           0                     1   \n",
       "19155                   0                           0                     1   \n",
       "19156                   0                           0                     1   \n",
       "19157                   0                           0                     1   \n",
       "\n",
       "       last_new_job_1  last_new_job_2  last_new_job_3  last_new_job_4  \\\n",
       "0                   1               0               0               0   \n",
       "1                   0               0               0               0   \n",
       "2                   0               0               0               0   \n",
       "4                   0               0               0               1   \n",
       "5                   1               0               0               0   \n",
       "...               ...             ...             ...             ...   \n",
       "19153               1               0               0               0   \n",
       "19154               0               0               0               1   \n",
       "19155               0               0               0               1   \n",
       "19156               0               1               0               0   \n",
       "19157               1               0               0               0   \n",
       "\n",
       "       last_new_job_>4  last_new_job_never  \n",
       "0                    0                   0  \n",
       "1                    1                   0  \n",
       "2                    0                   1  \n",
       "4                    0                   0  \n",
       "5                    0                   0  \n",
       "...                ...                 ...  \n",
       "19153                0                   0  \n",
       "19154                0                   0  \n",
       "19155                0                   0  \n",
       "19156                0                   0  \n",
       "19157                0                   0  \n",
       "\n",
       "[17434 rows x 36 columns]"
      ]
     },
     "execution_count": 99,
     "metadata": {},
     "output_type": "execute_result"
    }
   ],
   "source": [
    "df"
   ]
  },
  {
   "cell_type": "code",
   "execution_count": 100,
   "id": "defd6339-0865-4582-9e75-3eb029792a33",
   "metadata": {},
   "outputs": [
    {
     "name": "stdout",
     "output_type": "stream",
     "text": [
      "<class 'pandas.core.frame.DataFrame'>\n",
      "Int64Index: 17434 entries, 0 to 19157\n",
      "Data columns (total 36 columns):\n",
      " #   Column                               Non-Null Count  Dtype  \n",
      "---  ------                               --------------  -----  \n",
      " 0   enrollee_id                          17434 non-null  int64  \n",
      " 1   gender                               17434 non-null  int64  \n",
      " 2   relevent_experience                  17434 non-null  int64  \n",
      " 3   enrolled_university                  17434 non-null  int64  \n",
      " 4   education_level                      17434 non-null  int64  \n",
      " 5   target                               17434 non-null  float64\n",
      " 6   skewnorm_city_development_index      17434 non-null  float64\n",
      " 7   log_training_hours                   17434 non-null  float64\n",
      " 8   log_training_hours_std               17434 non-null  float64\n",
      " 9   skewnorm_city_development_index_std  17434 non-null  float64\n",
      " 10  major_discipline_Arts                17434 non-null  uint8  \n",
      " 11  major_discipline_Business Degree     17434 non-null  uint8  \n",
      " 12  major_discipline_Humanities          17434 non-null  uint8  \n",
      " 13  major_discipline_No Major            17434 non-null  uint8  \n",
      " 14  major_discipline_Other               17434 non-null  uint8  \n",
      " 15  major_discipline_STEM                17434 non-null  uint8  \n",
      " 16  company_size_10/49                   17434 non-null  uint8  \n",
      " 17  company_size_100-500                 17434 non-null  uint8  \n",
      " 18  company_size_1000-4999               17434 non-null  uint8  \n",
      " 19  company_size_10000+                  17434 non-null  uint8  \n",
      " 20  company_size_50-99                   17434 non-null  uint8  \n",
      " 21  company_size_500-999                 17434 non-null  uint8  \n",
      " 22  company_size_5000-9999               17434 non-null  uint8  \n",
      " 23  company_size_<10                     17434 non-null  uint8  \n",
      " 24  company_type_Early Stage Startup     17434 non-null  uint8  \n",
      " 25  company_type_Funded Startup          17434 non-null  uint8  \n",
      " 26  company_type_NGO                     17434 non-null  uint8  \n",
      " 27  company_type_Other                   17434 non-null  uint8  \n",
      " 28  company_type_Public Sector           17434 non-null  uint8  \n",
      " 29  company_type_Pvt Ltd                 17434 non-null  uint8  \n",
      " 30  last_new_job_1                       17434 non-null  uint8  \n",
      " 31  last_new_job_2                       17434 non-null  uint8  \n",
      " 32  last_new_job_3                       17434 non-null  uint8  \n",
      " 33  last_new_job_4                       17434 non-null  uint8  \n",
      " 34  last_new_job_>4                      17434 non-null  uint8  \n",
      " 35  last_new_job_never                   17434 non-null  uint8  \n",
      "dtypes: float64(5), int64(5), uint8(26)\n",
      "memory usage: 2.4 MB\n"
     ]
    }
   ],
   "source": [
    "df.info()"
   ]
  },
  {
   "cell_type": "code",
   "execution_count": 101,
   "id": "8aa70d0f-117f-4d7c-bfe3-17046909aea4",
   "metadata": {},
   "outputs": [
    {
     "data": {
      "text/plain": [
       "0.0    13141\n",
       "1.0     4293\n",
       "Name: target, dtype: int64"
      ]
     },
     "execution_count": 101,
     "metadata": {},
     "output_type": "execute_result"
    }
   ],
   "source": [
    "df['target'].value_counts()"
   ]
  },
  {
   "cell_type": "markdown",
   "id": "750e68f9-0016-4cda-8689-ee12ff655f19",
   "metadata": {},
   "source": [
    "### F. Handle class imbalance"
   ]
  },
  {
   "cell_type": "code",
   "execution_count": 102,
   "id": "72802d8e-8f8a-4468-bcfa-bcc8c14d9d8b",
   "metadata": {},
   "outputs": [
    {
     "data": {
      "text/plain": [
       "False    13141\n",
       "True      4293\n",
       "Name: target_class, dtype: int64"
      ]
     },
     "execution_count": 102,
     "metadata": {},
     "output_type": "execute_result"
    }
   ],
   "source": [
    "# pembuatan binary label target\n",
    "df['target_class'] = df['target'] > 0.8\n",
    "df['target_class'].value_counts()"
   ]
  },
  {
   "cell_type": "code",
   "execution_count": 103,
   "id": "53294e78-edf5-4e1e-91c8-6a9a2b144087",
   "metadata": {},
   "outputs": [
    {
     "name": "stdout",
     "output_type": "stream",
     "text": [
      "(17434, 35)\n",
      "(17434,)\n"
     ]
    }
   ],
   "source": [
    "# pemisahan features vs target\n",
    "X = df[[col for col in df.columns if (str(df[col].dtype) != 'object') and col not in ['target', 'target_class']]]\n",
    "y = df['target_class'].values\n",
    "print(X.shape)\n",
    "print(y.shape)"
   ]
  },
  {
   "cell_type": "code",
   "execution_count": 104,
   "id": "c0bc2a3f-bf67-4a7d-a6f6-622f459bb932",
   "metadata": {},
   "outputs": [
    {
     "name": "stderr",
     "output_type": "stream",
     "text": [
      "C:\\Users\\Satya Mahardika\\anaconda3\\lib\\site-packages\\imblearn\\utils\\_validation.py:586: FutureWarning: Pass sampling_strategy=0.5 as keyword args. From version 0.9 passing these as positional arguments will result in an error\n",
      "  warnings.warn(\n",
      "C:\\Users\\Satya Mahardika\\anaconda3\\lib\\site-packages\\imblearn\\utils\\_validation.py:586: FutureWarning: Pass sampling_strategy=0.5 as keyword args. From version 0.9 passing these as positional arguments will result in an error\n",
      "  warnings.warn(\n",
      "C:\\Users\\Satya Mahardika\\anaconda3\\lib\\site-packages\\imblearn\\utils\\_validation.py:586: FutureWarning: Pass sampling_strategy=0.5 as keyword args. From version 0.9 passing these as positional arguments will result in an error\n",
      "  warnings.warn(\n"
     ]
    }
   ],
   "source": [
    "from imblearn import under_sampling, over_sampling\n",
    "X_under, y_under = under_sampling.RandomUnderSampler(0.5).fit_resample(X, y)\n",
    "X_over, y_over = over_sampling.RandomOverSampler(0.5).fit_resample(X, y)\n",
    "X_over_SMOTE, y_over_SMOTE = over_sampling.SMOTE(0.5).fit_resample(X, y)"
   ]
  },
  {
   "cell_type": "code",
   "execution_count": 105,
   "id": "6a3bd53e-1be2-4590-8f15-de411106fbd0",
   "metadata": {},
   "outputs": [
    {
     "name": "stdout",
     "output_type": "stream",
     "text": [
      "Original\n",
      "False    13141\n",
      "True      4293\n",
      "dtype: int64\n",
      "\n",
      "\n",
      "UNDERSAMPLING\n",
      "False    8586\n",
      "True     4293\n",
      "dtype: int64\n",
      "\n",
      "\n",
      "OVERSAMPLING\n",
      "False    13141\n",
      "True      6570\n",
      "dtype: int64\n",
      "\n",
      "\n",
      "SMOTE\n",
      "False    13141\n",
      "True      6570\n",
      "dtype: int64\n"
     ]
    }
   ],
   "source": [
    "print('Original')\n",
    "print(pd.Series(y).value_counts())\n",
    "print('\\n')\n",
    "print('UNDERSAMPLING')\n",
    "print(pd.Series(y_under).value_counts())\n",
    "print('\\n')\n",
    "print('OVERSAMPLING')\n",
    "print(pd.Series(y_over).value_counts())\n",
    "print('\\n')\n",
    "print('SMOTE')\n",
    "print(pd.Series(y_over_SMOTE).value_counts())"
   ]
  },
  {
   "cell_type": "markdown",
   "id": "37cc5c4c-2bd1-4e6b-abc7-e3fbe55b8d54",
   "metadata": {},
   "source": [
    "# 2. Feature Engineering"
   ]
  },
  {
   "cell_type": "markdown",
   "id": "a8ef1c03-6517-4753-bc41-ff9382eb4e66",
   "metadata": {},
   "source": [
    "### A. Feature selection"
   ]
  },
  {
   "cell_type": "markdown",
   "id": "6ae01dbb-be9d-4170-92e9-8a95daaba1a7",
   "metadata": {},
   "source": [
    "Pada feature ini kami menghapus kolom `city` & `experince` dikarenakan nilai unique yang \n",
    "terlalu tinggi."
   ]
  },
  {
   "cell_type": "markdown",
   "id": "42d445e6-4668-49a1-9739-bbb9c0efd176",
   "metadata": {},
   "source": [
    "### B. Feature extraction"
   ]
  },
  {
   "cell_type": "markdown",
   "id": "f5a12358-56ba-4401-960b-8bfcb2a4bd29",
   "metadata": {},
   "source": [
    "Kami tidak membuat feature baru dari feature yang sudah ada"
   ]
  },
  {
   "cell_type": "markdown",
   "id": "b81ebb95-4bf1-4d51-892b-27533d18e9d5",
   "metadata": {},
   "source": [
    "### C. Tuliskan minimal 4 feature tambahan"
   ]
  },
  {
   "cell_type": "markdown",
   "id": "df42d815-f533-40bc-bc06-295c930e5fcd",
   "metadata": {},
   "source": [
    "Kami akan menambahkan 4 feature baru seperti:\n",
    "* Perfomace rating\n",
    "* Age\n",
    "* Training score\n",
    "* Ekspetasi gaj"
   ]
  }
 ],
 "metadata": {
  "kernelspec": {
   "display_name": "Python 3 (ipykernel)",
   "language": "python",
   "name": "python3"
  },
  "language_info": {
   "codemirror_mode": {
    "name": "ipython",
    "version": 3
   },
   "file_extension": ".py",
   "mimetype": "text/x-python",
   "name": "python",
   "nbconvert_exporter": "python",
   "pygments_lexer": "ipython3",
   "version": "3.9.7"
  }
 },
 "nbformat": 4,
 "nbformat_minor": 5
}
